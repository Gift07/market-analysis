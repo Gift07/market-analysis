{
  "nbformat": 4,
  "nbformat_minor": 0,
  "metadata": {
    "colab": {
      "provenance": [],
      "authorship_tag": "ABX9TyOaXiVBIMVwWHmNBTQPaERF",
      "include_colab_link": true
    },
    "kernelspec": {
      "name": "python3",
      "display_name": "Python 3"
    },
    "language_info": {
      "name": "python"
    }
  },
  "cells": [
    {
      "cell_type": "markdown",
      "metadata": {
        "id": "view-in-github",
        "colab_type": "text"
      },
      "source": [
        "<a href=\"https://colab.research.google.com/github/Gift07/market-analysis/blob/main/btcether-analysis.ipynb\" target=\"_parent\"><img src=\"https://colab.research.google.com/assets/colab-badge.svg\" alt=\"Open In Colab\"/></a>"
      ]
    },
    {
      "cell_type": "markdown",
      "source": [
        "### Interacting with crypto data\n",
        "> Obtained from _crypto watch_"
      ],
      "metadata": {
        "id": "d3c4RcN9T77w"
      }
    },
    {
      "cell_type": "code",
      "execution_count": 1,
      "metadata": {
        "id": "IBLE6q6SSs7z"
      },
      "outputs": [],
      "source": [
        "import requests\n",
        "import pandas as pd\n",
        "import numpy as np\n",
        "import matplotlib.pyplot as plt\n",
        "%matplotlib inline"
      ]
    },
    {
      "cell_type": "code",
      "source": [
        "def get_historic_prices(symbol, exchange=\"bitfinex\", after=\"2018-09-01\"):\n",
        "  url = 'https://api.cryptowat.ch/markets/{exchange}/{symbol}usd/ohlc'.format(\n",
        "      symbol=symbol, exchange=exchange\n",
        "      )\n",
        "  resp = requests.get(url, params={\n",
        "      \"periods\":\"3600\",\n",
        "      'after': str(int(pd.Timestamp(after).timestamp()))\n",
        "  })\n",
        "  resp.raise_for_status()\n",
        "  data = resp.json()\n",
        "  df = pd.DataFrame(data['result']['3600'], columns=[\n",
        "      \"CloseTime\", \"OpenPrice\",\"HighPrice\",\"LowPrice\",\"ClosePrice\",\"Volume\",\"NA\"\n",
        "      ])\n",
        "  df['CloseTime'] = pd.to_datetime(df['CloseTime'], unit='s')\n",
        "  df.set_index('CloseTime',inplace=True)\n",
        "  return df"
      ],
      "metadata": {
        "id": "peBl6U3qUUSO"
      },
      "execution_count": 10,
      "outputs": []
    },
    {
      "cell_type": "markdown",
      "source": [
        "getting data for the whole week"
      ],
      "metadata": {
        "id": "B8uCo6E3XbBw"
      }
    },
    {
      "cell_type": "code",
      "source": [
        "last_week = (pd.Timestamp.now()- pd.offsets.Day(7))\n",
        "last_week"
      ],
      "metadata": {
        "colab": {
          "base_uri": "https://localhost:8080/"
        },
        "id": "i5MUAVZFXZAJ",
        "outputId": "8d2d1827-69c7-43a1-d7d0-edf3d8788774"
      },
      "execution_count": 4,
      "outputs": [
        {
          "output_type": "execute_result",
          "data": {
            "text/plain": [
              "Timestamp('2022-10-21 11:34:50.070075')"
            ]
          },
          "metadata": {},
          "execution_count": 4
        }
      ]
    },
    {
      "cell_type": "markdown",
      "source": [
        "Getting price information"
      ],
      "metadata": {
        "id": "C6-oo2VLX_OP"
      }
    },
    {
      "cell_type": "code",
      "source": [
        "btc = get_historic_prices('btc', 'bitstamp',after=last_week)\n",
        "eth = get_historic_prices(\"eth\", 'bitstamp', after=last_week)"
      ],
      "metadata": {
        "id": "JqSRU8j8YCR4"
      },
      "execution_count": 11,
      "outputs": []
    },
    {
      "cell_type": "markdown",
      "source": [
        "**Bitcoin**"
      ],
      "metadata": {
        "id": "Ukw2kOphaQI7"
      }
    },
    {
      "cell_type": "code",
      "source": [
        "btc.head()"
      ],
      "metadata": {
        "colab": {
          "base_uri": "https://localhost:8080/",
          "height": 238
        },
        "id": "XcQutTP_ZmjK",
        "outputId": "b9f45265-38ff-4c8f-9a6a-f7253f84ce8c"
      },
      "execution_count": 12,
      "outputs": [
        {
          "output_type": "execute_result",
          "data": {
            "text/plain": [
              "                     OpenPrice  HighPrice  LowPrice  ClosePrice      Volume  \\\n",
              "CloseTime                                                                     \n",
              "2022-10-21 12:00:00      19002      19007     18941       18944   55.240525   \n",
              "2022-10-21 13:00:00      18946      18946     18660       18882  415.165337   \n",
              "2022-10-21 14:00:00      18877      19082     18860       19064  155.850947   \n",
              "2022-10-21 15:00:00      19068      19127     18940       18978  139.620696   \n",
              "2022-10-21 16:00:00      18978      19169     18951       19166  225.448405   \n",
              "\n",
              "                               NA  \n",
              "CloseTime                          \n",
              "2022-10-21 12:00:00  1.048857e+06  \n",
              "2022-10-21 13:00:00  7.800918e+06  \n",
              "2022-10-21 14:00:00  2.956618e+06  \n",
              "2022-10-21 15:00:00  2.660399e+06  \n",
              "2022-10-21 16:00:00  4.299695e+06  "
            ],
            "text/html": [
              "\n",
              "  <div id=\"df-2c015902-fded-4c0f-9e36-3ee3eecd47c0\">\n",
              "    <div class=\"colab-df-container\">\n",
              "      <div>\n",
              "<style scoped>\n",
              "    .dataframe tbody tr th:only-of-type {\n",
              "        vertical-align: middle;\n",
              "    }\n",
              "\n",
              "    .dataframe tbody tr th {\n",
              "        vertical-align: top;\n",
              "    }\n",
              "\n",
              "    .dataframe thead th {\n",
              "        text-align: right;\n",
              "    }\n",
              "</style>\n",
              "<table border=\"1\" class=\"dataframe\">\n",
              "  <thead>\n",
              "    <tr style=\"text-align: right;\">\n",
              "      <th></th>\n",
              "      <th>OpenPrice</th>\n",
              "      <th>HighPrice</th>\n",
              "      <th>LowPrice</th>\n",
              "      <th>ClosePrice</th>\n",
              "      <th>Volume</th>\n",
              "      <th>NA</th>\n",
              "    </tr>\n",
              "    <tr>\n",
              "      <th>CloseTime</th>\n",
              "      <th></th>\n",
              "      <th></th>\n",
              "      <th></th>\n",
              "      <th></th>\n",
              "      <th></th>\n",
              "      <th></th>\n",
              "    </tr>\n",
              "  </thead>\n",
              "  <tbody>\n",
              "    <tr>\n",
              "      <th>2022-10-21 12:00:00</th>\n",
              "      <td>19002</td>\n",
              "      <td>19007</td>\n",
              "      <td>18941</td>\n",
              "      <td>18944</td>\n",
              "      <td>55.240525</td>\n",
              "      <td>1.048857e+06</td>\n",
              "    </tr>\n",
              "    <tr>\n",
              "      <th>2022-10-21 13:00:00</th>\n",
              "      <td>18946</td>\n",
              "      <td>18946</td>\n",
              "      <td>18660</td>\n",
              "      <td>18882</td>\n",
              "      <td>415.165337</td>\n",
              "      <td>7.800918e+06</td>\n",
              "    </tr>\n",
              "    <tr>\n",
              "      <th>2022-10-21 14:00:00</th>\n",
              "      <td>18877</td>\n",
              "      <td>19082</td>\n",
              "      <td>18860</td>\n",
              "      <td>19064</td>\n",
              "      <td>155.850947</td>\n",
              "      <td>2.956618e+06</td>\n",
              "    </tr>\n",
              "    <tr>\n",
              "      <th>2022-10-21 15:00:00</th>\n",
              "      <td>19068</td>\n",
              "      <td>19127</td>\n",
              "      <td>18940</td>\n",
              "      <td>18978</td>\n",
              "      <td>139.620696</td>\n",
              "      <td>2.660399e+06</td>\n",
              "    </tr>\n",
              "    <tr>\n",
              "      <th>2022-10-21 16:00:00</th>\n",
              "      <td>18978</td>\n",
              "      <td>19169</td>\n",
              "      <td>18951</td>\n",
              "      <td>19166</td>\n",
              "      <td>225.448405</td>\n",
              "      <td>4.299695e+06</td>\n",
              "    </tr>\n",
              "  </tbody>\n",
              "</table>\n",
              "</div>\n",
              "      <button class=\"colab-df-convert\" onclick=\"convertToInteractive('df-2c015902-fded-4c0f-9e36-3ee3eecd47c0')\"\n",
              "              title=\"Convert this dataframe to an interactive table.\"\n",
              "              style=\"display:none;\">\n",
              "        \n",
              "  <svg xmlns=\"http://www.w3.org/2000/svg\" height=\"24px\"viewBox=\"0 0 24 24\"\n",
              "       width=\"24px\">\n",
              "    <path d=\"M0 0h24v24H0V0z\" fill=\"none\"/>\n",
              "    <path d=\"M18.56 5.44l.94 2.06.94-2.06 2.06-.94-2.06-.94-.94-2.06-.94 2.06-2.06.94zm-11 1L8.5 8.5l.94-2.06 2.06-.94-2.06-.94L8.5 2.5l-.94 2.06-2.06.94zm10 10l.94 2.06.94-2.06 2.06-.94-2.06-.94-.94-2.06-.94 2.06-2.06.94z\"/><path d=\"M17.41 7.96l-1.37-1.37c-.4-.4-.92-.59-1.43-.59-.52 0-1.04.2-1.43.59L10.3 9.45l-7.72 7.72c-.78.78-.78 2.05 0 2.83L4 21.41c.39.39.9.59 1.41.59.51 0 1.02-.2 1.41-.59l7.78-7.78 2.81-2.81c.8-.78.8-2.07 0-2.86zM5.41 20L4 18.59l7.72-7.72 1.47 1.35L5.41 20z\"/>\n",
              "  </svg>\n",
              "      </button>\n",
              "      \n",
              "  <style>\n",
              "    .colab-df-container {\n",
              "      display:flex;\n",
              "      flex-wrap:wrap;\n",
              "      gap: 12px;\n",
              "    }\n",
              "\n",
              "    .colab-df-convert {\n",
              "      background-color: #E8F0FE;\n",
              "      border: none;\n",
              "      border-radius: 50%;\n",
              "      cursor: pointer;\n",
              "      display: none;\n",
              "      fill: #1967D2;\n",
              "      height: 32px;\n",
              "      padding: 0 0 0 0;\n",
              "      width: 32px;\n",
              "    }\n",
              "\n",
              "    .colab-df-convert:hover {\n",
              "      background-color: #E2EBFA;\n",
              "      box-shadow: 0px 1px 2px rgba(60, 64, 67, 0.3), 0px 1px 3px 1px rgba(60, 64, 67, 0.15);\n",
              "      fill: #174EA6;\n",
              "    }\n",
              "\n",
              "    [theme=dark] .colab-df-convert {\n",
              "      background-color: #3B4455;\n",
              "      fill: #D2E3FC;\n",
              "    }\n",
              "\n",
              "    [theme=dark] .colab-df-convert:hover {\n",
              "      background-color: #434B5C;\n",
              "      box-shadow: 0px 1px 3px 1px rgba(0, 0, 0, 0.15);\n",
              "      filter: drop-shadow(0px 1px 2px rgba(0, 0, 0, 0.3));\n",
              "      fill: #FFFFFF;\n",
              "    }\n",
              "  </style>\n",
              "\n",
              "      <script>\n",
              "        const buttonEl =\n",
              "          document.querySelector('#df-2c015902-fded-4c0f-9e36-3ee3eecd47c0 button.colab-df-convert');\n",
              "        buttonEl.style.display =\n",
              "          google.colab.kernel.accessAllowed ? 'block' : 'none';\n",
              "\n",
              "        async function convertToInteractive(key) {\n",
              "          const element = document.querySelector('#df-2c015902-fded-4c0f-9e36-3ee3eecd47c0');\n",
              "          const dataTable =\n",
              "            await google.colab.kernel.invokeFunction('convertToInteractive',\n",
              "                                                     [key], {});\n",
              "          if (!dataTable) return;\n",
              "\n",
              "          const docLinkHtml = 'Like what you see? Visit the ' +\n",
              "            '<a target=\"_blank\" href=https://colab.research.google.com/notebooks/data_table.ipynb>data table notebook</a>'\n",
              "            + ' to learn more about interactive tables.';\n",
              "          element.innerHTML = '';\n",
              "          dataTable['output_type'] = 'display_data';\n",
              "          await google.colab.output.renderOutput(dataTable, element);\n",
              "          const docLink = document.createElement('div');\n",
              "          docLink.innerHTML = docLinkHtml;\n",
              "          element.appendChild(docLink);\n",
              "        }\n",
              "      </script>\n",
              "    </div>\n",
              "  </div>\n",
              "  "
            ]
          },
          "metadata": {},
          "execution_count": 12
        }
      ]
    },
    {
      "cell_type": "code",
      "source": [
        "btc[\"ClosePrice\"].plot(figsize=(15,7))"
      ],
      "metadata": {
        "colab": {
          "base_uri": "https://localhost:8080/",
          "height": 482
        },
        "id": "-18WnAg9aUSE",
        "outputId": "ea706ad9-de91-4823-9c9e-aa28aad303a0"
      },
      "execution_count": 14,
      "outputs": [
        {
          "output_type": "execute_result",
          "data": {
            "text/plain": [
              "<matplotlib.axes._subplots.AxesSubplot at 0x7faae96a6d90>"
            ]
          },
          "metadata": {},
          "execution_count": 14
        },
        {
          "output_type": "display_data",
          "data": {
            "text/plain": [
              "<Figure size 1080x504 with 1 Axes>"
            ],
            "image/png": "[encoded data removed]"
          },
          "metadata": {
            "needs_background": "light"
          }
        }
      ]
    },
    {
      "cell_type": "markdown",
      "source": [
        "**Ether**"
      ],
      "metadata": {
        "id": "YEuHvG8AbAQ8"
      }
    },
    {
      "cell_type": "code",
      "source": [
        "eth.head()"
      ],
      "metadata": {
        "colab": {
          "base_uri": "https://localhost:8080/",
          "height": 238
        },
        "id": "l1q8VinDbG58",
        "outputId": "26a8befe-aaf8-41e7-f5c8-14feb65cbf2d"
      },
      "execution_count": 15,
      "outputs": [
        {
          "output_type": "execute_result",
          "data": {
            "text/plain": [
              "                     OpenPrice  HighPrice  LowPrice  ClosePrice       Volume  \\\n",
              "CloseTime                                                                      \n",
              "2022-10-21 12:00:00     1281.2     1281.2    1275.0      1275.7   282.448689   \n",
              "2022-10-21 13:00:00     1275.7     1275.8    1252.8      1270.1  4518.755049   \n",
              "2022-10-21 14:00:00     1269.4     1286.3    1269.0      1286.3  1776.743855   \n",
              "2022-10-21 15:00:00     1286.2     1290.5    1275.9      1279.8  1092.091391   \n",
              "2022-10-21 16:00:00     1279.5     1297.7    1278.1      1297.4  1609.527756   \n",
              "\n",
              "                               NA  \n",
              "CloseTime                          \n",
              "2022-10-21 12:00:00  3.610876e+05  \n",
              "2022-10-21 13:00:00  5.703679e+06  \n",
              "2022-10-21 14:00:00  2.266561e+06  \n",
              "2022-10-21 15:00:00  1.403135e+06  \n",
              "2022-10-21 16:00:00  2.075199e+06  "
            ],
            "text/html": [
              "\n",
              "  <div id=\"df-11570f4d-da4b-4eb1-93ff-92f8f141e9ea\">\n",
              "    <div class=\"colab-df-container\">\n",
              "      <div>\n",
              "<style scoped>\n",
              "    .dataframe tbody tr th:only-of-type {\n",
              "        vertical-align: middle;\n",
              "    }\n",
              "\n",
              "    .dataframe tbody tr th {\n",
              "        vertical-align: top;\n",
              "    }\n",
              "\n",
              "    .dataframe thead th {\n",
              "        text-align: right;\n",
              "    }\n",
              "</style>\n",
              "<table border=\"1\" class=\"dataframe\">\n",
              "  <thead>\n",
              "    <tr style=\"text-align: right;\">\n",
              "      <th></th>\n",
              "      <th>OpenPrice</th>\n",
              "      <th>HighPrice</th>\n",
              "      <th>LowPrice</th>\n",
              "      <th>ClosePrice</th>\n",
              "      <th>Volume</th>\n",
              "      <th>NA</th>\n",
              "    </tr>\n",
              "    <tr>\n",
              "      <th>CloseTime</th>\n",
              "      <th></th>\n",
              "      <th></th>\n",
              "      <th></th>\n",
              "      <th></th>\n",
              "      <th></th>\n",
              "      <th></th>\n",
              "    </tr>\n",
              "  </thead>\n",
              "  <tbody>\n",
              "    <tr>\n",
              "      <th>2022-10-21 12:00:00</th>\n",
              "      <td>1281.2</td>\n",
              "      <td>1281.2</td>\n",
              "      <td>1275.0</td>\n",
              "      <td>1275.7</td>\n",
              "      <td>282.448689</td>\n",
              "      <td>3.610876e+05</td>\n",
              "    </tr>\n",
              "    <tr>\n",
              "      <th>2022-10-21 13:00:00</th>\n",
              "      <td>1275.7</td>\n",
              "      <td>1275.8</td>\n",
              "      <td>1252.8</td>\n",
              "      <td>1270.1</td>\n",
              "      <td>4518.755049</td>\n",
              "      <td>5.703679e+06</td>\n",
              "    </tr>\n",
              "    <tr>\n",
              "      <th>2022-10-21 14:00:00</th>\n",
              "      <td>1269.4</td>\n",
              "      <td>1286.3</td>\n",
              "      <td>1269.0</td>\n",
              "      <td>1286.3</td>\n",
              "      <td>1776.743855</td>\n",
              "      <td>2.266561e+06</td>\n",
              "    </tr>\n",
              "    <tr>\n",
              "      <th>2022-10-21 15:00:00</th>\n",
              "      <td>1286.2</td>\n",
              "      <td>1290.5</td>\n",
              "      <td>1275.9</td>\n",
              "      <td>1279.8</td>\n",
              "      <td>1092.091391</td>\n",
              "      <td>1.403135e+06</td>\n",
              "    </tr>\n",
              "    <tr>\n",
              "      <th>2022-10-21 16:00:00</th>\n",
              "      <td>1279.5</td>\n",
              "      <td>1297.7</td>\n",
              "      <td>1278.1</td>\n",
              "      <td>1297.4</td>\n",
              "      <td>1609.527756</td>\n",
              "      <td>2.075199e+06</td>\n",
              "    </tr>\n",
              "  </tbody>\n",
              "</table>\n",
              "</div>\n",
              "      <button class=\"colab-df-convert\" onclick=\"convertToInteractive('df-11570f4d-da4b-4eb1-93ff-92f8f141e9ea')\"\n",
              "              title=\"Convert this dataframe to an interactive table.\"\n",
              "              style=\"display:none;\">\n",
              "        \n",
              "  <svg xmlns=\"http://www.w3.org/2000/svg\" height=\"24px\"viewBox=\"0 0 24 24\"\n",
              "       width=\"24px\">\n",
              "    <path d=\"M0 0h24v24H0V0z\" fill=\"none\"/>\n",
              "    <path d=\"M18.56 5.44l.94 2.06.94-2.06 2.06-.94-2.06-.94-.94-2.06-.94 2.06-2.06.94zm-11 1L8.5 8.5l.94-2.06 2.06-.94-2.06-.94L8.5 2.5l-.94 2.06-2.06.94zm10 10l.94 2.06.94-2.06 2.06-.94-2.06-.94-.94-2.06-.94 2.06-2.06.94z\"/><path d=\"M17.41 7.96l-1.37-1.37c-.4-.4-.92-.59-1.43-.59-.52 0-1.04.2-1.43.59L10.3 9.45l-7.72 7.72c-.78.78-.78 2.05 0 2.83L4 21.41c.39.39.9.59 1.41.59.51 0 1.02-.2 1.41-.59l7.78-7.78 2.81-2.81c.8-.78.8-2.07 0-2.86zM5.41 20L4 18.59l7.72-7.72 1.47 1.35L5.41 20z\"/>\n",
              "  </svg>\n",
              "      </button>\n",
              "      \n",
              "  <style>\n",
              "    .colab-df-container {\n",
              "      display:flex;\n",
              "      flex-wrap:wrap;\n",
              "      gap: 12px;\n",
              "    }\n",
              "\n",
              "    .colab-df-convert {\n",
              "      background-color: #E8F0FE;\n",
              "      border: none;\n",
              "      border-radius: 50%;\n",
              "      cursor: pointer;\n",
              "      display: none;\n",
              "      fill: #1967D2;\n",
              "      height: 32px;\n",
              "      padding: 0 0 0 0;\n",
              "      width: 32px;\n",
              "    }\n",
              "\n",
              "    .colab-df-convert:hover {\n",
              "      background-color: #E2EBFA;\n",
              "      box-shadow: 0px 1px 2px rgba(60, 64, 67, 0.3), 0px 1px 3px 1px rgba(60, 64, 67, 0.15);\n",
              "      fill: #174EA6;\n",
              "    }\n",
              "\n",
              "    [theme=dark] .colab-df-convert {\n",
              "      background-color: #3B4455;\n",
              "      fill: #D2E3FC;\n",
              "    }\n",
              "\n",
              "    [theme=dark] .colab-df-convert:hover {\n",
              "      background-color: #434B5C;\n",
              "      box-shadow: 0px 1px 3px 1px rgba(0, 0, 0, 0.15);\n",
              "      filter: drop-shadow(0px 1px 2px rgba(0, 0, 0, 0.3));\n",
              "      fill: #FFFFFF;\n",
              "    }\n",
              "  </style>\n",
              "\n",
              "      <script>\n",
              "        const buttonEl =\n",
              "          document.querySelector('#df-11570f4d-da4b-4eb1-93ff-92f8f141e9ea button.colab-df-convert');\n",
              "        buttonEl.style.display =\n",
              "          google.colab.kernel.accessAllowed ? 'block' : 'none';\n",
              "\n",
              "        async function convertToInteractive(key) {\n",
              "          const element = document.querySelector('#df-11570f4d-da4b-4eb1-93ff-92f8f141e9ea');\n",
              "          const dataTable =\n",
              "            await google.colab.kernel.invokeFunction('convertToInteractive',\n",
              "                                                     [key], {});\n",
              "          if (!dataTable) return;\n",
              "\n",
              "          const docLinkHtml = 'Like what you see? Visit the ' +\n",
              "            '<a target=\"_blank\" href=https://colab.research.google.com/notebooks/data_table.ipynb>data table notebook</a>'\n",
              "            + ' to learn more about interactive tables.';\n",
              "          element.innerHTML = '';\n",
              "          dataTable['output_type'] = 'display_data';\n",
              "          await google.colab.output.renderOutput(dataTable, element);\n",
              "          const docLink = document.createElement('div');\n",
              "          docLink.innerHTML = docLinkHtml;\n",
              "          element.appendChild(docLink);\n",
              "        }\n",
              "      </script>\n",
              "    </div>\n",
              "  </div>\n",
              "  "
            ]
          },
          "metadata": {},
          "execution_count": 15
        }
      ]
    },
    {
      "cell_type": "code",
      "source": [
        "eth[\"ClosePrice\"].plot(figsize=(15,7))"
      ],
      "metadata": {
        "colab": {
          "base_uri": "https://localhost:8080/",
          "height": 482
        },
        "id": "yhbGl_K8bM4B",
        "outputId": "ed6dc66a-aa37-49ef-d428-8eddf7850d88"
      },
      "execution_count": 16,
      "outputs": [
        {
          "output_type": "execute_result",
          "data": {
            "text/plain": [
              "<matplotlib.axes._subplots.AxesSubplot at 0x7faae80dbc90>"
            ]
          },
          "metadata": {},
          "execution_count": 16
        },
        {
          "output_type": "display_data",
          "data": {
            "text/plain": [
              "<Figure size 1080x504 with 1 Axes>"
            ],
            "image/png": "[encoded data removed]"
          },
          "metadata": {
            "needs_background": "light"
          }
        }
      ]
    },
    {
      "cell_type": "code",
      "source": [
        "btc.describe()"
      ],
      "metadata": {
        "colab": {
          "base_uri": "https://localhost:8080/",
          "height": 300
        },
        "id": "DB6_cUpvcUIa",
        "outputId": "ec8be788-fe84-465c-8961-8f638805b2cf"
      },
      "execution_count": 17,
      "outputs": [
        {
          "output_type": "execute_result",
          "data": {
            "text/plain": [
              "          OpenPrice     HighPrice      LowPrice    ClosePrice      Volume  \\\n",
              "count    169.000000    169.000000    169.000000    169.000000  169.000000   \n",
              "mean   19742.378698  19796.207101  19691.301775  19748.828402   70.836087   \n",
              "std      624.952026    647.617923    604.332107    622.824538   88.023394   \n",
              "min    18877.000000  18946.000000  18660.000000  18882.000000    5.287441   \n",
              "25%    19191.000000  19210.000000  19177.000000  19194.000000   20.105087   \n",
              "50%    19384.000000  19430.000000  19332.000000  19387.000000   38.340233   \n",
              "75%    20294.000000  20333.000000  20215.000000  20291.000000   73.196970   \n",
              "max    20852.000000  21012.000000  20799.000000  20841.000000  475.689379   \n",
              "\n",
              "                 NA  \n",
              "count  1.690000e+02  \n",
              "mean   1.411154e+06  \n",
              "std    1.760924e+06  \n",
              "min    1.013235e+05  \n",
              "25%    3.853344e+05  \n",
              "50%    7.895651e+05  \n",
              "75%    1.519592e+06  \n",
              "max    9.525856e+06  "
            ],
            "text/html": [
              "\n",
              "  <div id=\"df-d26da948-de6e-46ce-92e9-f6962b129555\">\n",
              "    <div class=\"colab-df-container\">\n",
              "      <div>\n",
              "<style scoped>\n",
              "    .dataframe tbody tr th:only-of-type {\n",
              "        vertical-align: middle;\n",
              "    }\n",
              "\n",
              "    .dataframe tbody tr th {\n",
              "        vertical-align: top;\n",
              "    }\n",
              "\n",
              "    .dataframe thead th {\n",
              "        text-align: right;\n",
              "    }\n",
              "</style>\n",
              "<table border=\"1\" class=\"dataframe\">\n",
              "  <thead>\n",
              "    <tr style=\"text-align: right;\">\n",
              "      <th></th>\n",
              "      <th>OpenPrice</th>\n",
              "      <th>HighPrice</th>\n",
              "      <th>LowPrice</th>\n",
              "      <th>ClosePrice</th>\n",
              "      <th>Volume</th>\n",
              "      <th>NA</th>\n",
              "    </tr>\n",
              "  </thead>\n",
              "  <tbody>\n",
              "    <tr>\n",
              "      <th>count</th>\n",
              "      <td>169.000000</td>\n",
              "      <td>169.000000</td>\n",
              "      <td>169.000000</td>\n",
              "      <td>169.000000</td>\n",
              "      <td>169.000000</td>\n",
              "      <td>1.690000e+02</td>\n",
              "    </tr>\n",
              "    <tr>\n",
              "      <th>mean</th>\n",
              "      <td>19742.378698</td>\n",
              "      <td>19796.207101</td>\n",
              "      <td>19691.301775</td>\n",
              "      <td>19748.828402</td>\n",
              "      <td>70.836087</td>\n",
              "      <td>1.411154e+06</td>\n",
              "    </tr>\n",
              "    <tr>\n",
              "      <th>std</th>\n",
              "      <td>624.952026</td>\n",
              "      <td>647.617923</td>\n",
              "      <td>604.332107</td>\n",
              "      <td>622.824538</td>\n",
              "      <td>88.023394</td>\n",
              "      <td>1.760924e+06</td>\n",
              "    </tr>\n",
              "    <tr>\n",
              "      <th>min</th>\n",
              "      <td>18877.000000</td>\n",
              "      <td>18946.000000</td>\n",
              "      <td>18660.000000</td>\n",
              "      <td>18882.000000</td>\n",
              "      <td>5.287441</td>\n",
              "      <td>1.013235e+05</td>\n",
              "    </tr>\n",
              "    <tr>\n",
              "      <th>25%</th>\n",
              "      <td>19191.000000</td>\n",
              "      <td>19210.000000</td>\n",
              "      <td>19177.000000</td>\n",
              "      <td>19194.000000</td>\n",
              "      <td>20.105087</td>\n",
              "      <td>3.853344e+05</td>\n",
              "    </tr>\n",
              "    <tr>\n",
              "      <th>50%</th>\n",
              "      <td>19384.000000</td>\n",
              "      <td>19430.000000</td>\n",
              "      <td>19332.000000</td>\n",
              "      <td>19387.000000</td>\n",
              "      <td>38.340233</td>\n",
              "      <td>7.895651e+05</td>\n",
              "    </tr>\n",
              "    <tr>\n",
              "      <th>75%</th>\n",
              "      <td>20294.000000</td>\n",
              "      <td>20333.000000</td>\n",
              "      <td>20215.000000</td>\n",
              "      <td>20291.000000</td>\n",
              "      <td>73.196970</td>\n",
              "      <td>1.519592e+06</td>\n",
              "    </tr>\n",
              "    <tr>\n",
              "      <th>max</th>\n",
              "      <td>20852.000000</td>\n",
              "      <td>21012.000000</td>\n",
              "      <td>20799.000000</td>\n",
              "      <td>20841.000000</td>\n",
              "      <td>475.689379</td>\n",
              "      <td>9.525856e+06</td>\n",
              "    </tr>\n",
              "  </tbody>\n",
              "</table>\n",
              "</div>\n",
              "      <button class=\"colab-df-convert\" onclick=\"convertToInteractive('df-d26da948-de6e-46ce-92e9-f6962b129555')\"\n",
              "              title=\"Convert this dataframe to an interactive table.\"\n",
              "              style=\"display:none;\">\n",
              "        \n",
              "  <svg xmlns=\"http://www.w3.org/2000/svg\" height=\"24px\"viewBox=\"0 0 24 24\"\n",
              "       width=\"24px\">\n",
              "    <path d=\"M0 0h24v24H0V0z\" fill=\"none\"/>\n",
              "    <path d=\"M18.56 5.44l.94 2.06.94-2.06 2.06-.94-2.06-.94-.94-2.06-.94 2.06-2.06.94zm-11 1L8.5 8.5l.94-2.06 2.06-.94-2.06-.94L8.5 2.5l-.94 2.06-2.06.94zm10 10l.94 2.06.94-2.06 2.06-.94-2.06-.94-.94-2.06-.94 2.06-2.06.94z\"/><path d=\"M17.41 7.96l-1.37-1.37c-.4-.4-.92-.59-1.43-.59-.52 0-1.04.2-1.43.59L10.3 9.45l-7.72 7.72c-.78.78-.78 2.05 0 2.83L4 21.41c.39.39.9.59 1.41.59.51 0 1.02-.2 1.41-.59l7.78-7.78 2.81-2.81c.8-.78.8-2.07 0-2.86zM5.41 20L4 18.59l7.72-7.72 1.47 1.35L5.41 20z\"/>\n",
              "  </svg>\n",
              "      </button>\n",
              "      \n",
              "  <style>\n",
              "    .colab-df-container {\n",
              "      display:flex;\n",
              "      flex-wrap:wrap;\n",
              "      gap: 12px;\n",
              "    }\n",
              "\n",
              "    .colab-df-convert {\n",
              "      background-color: #E8F0FE;\n",
              "      border: none;\n",
              "      border-radius: 50%;\n",
              "      cursor: pointer;\n",
              "      display: none;\n",
              "      fill: #1967D2;\n",
              "      height: 32px;\n",
              "      padding: 0 0 0 0;\n",
              "      width: 32px;\n",
              "    }\n",
              "\n",
              "    .colab-df-convert:hover {\n",
              "      background-color: #E2EBFA;\n",
              "      box-shadow: 0px 1px 2px rgba(60, 64, 67, 0.3), 0px 1px 3px 1px rgba(60, 64, 67, 0.15);\n",
              "      fill: #174EA6;\n",
              "    }\n",
              "\n",
              "    [theme=dark] .colab-df-convert {\n",
              "      background-color: #3B4455;\n",
              "      fill: #D2E3FC;\n",
              "    }\n",
              "\n",
              "    [theme=dark] .colab-df-convert:hover {\n",
              "      background-color: #434B5C;\n",
              "      box-shadow: 0px 1px 3px 1px rgba(0, 0, 0, 0.15);\n",
              "      filter: drop-shadow(0px 1px 2px rgba(0, 0, 0, 0.3));\n",
              "      fill: #FFFFFF;\n",
              "    }\n",
              "  </style>\n",
              "\n",
              "      <script>\n",
              "        const buttonEl =\n",
              "          document.querySelector('#df-d26da948-de6e-46ce-92e9-f6962b129555 button.colab-df-convert');\n",
              "        buttonEl.style.display =\n",
              "          google.colab.kernel.accessAllowed ? 'block' : 'none';\n",
              "\n",
              "        async function convertToInteractive(key) {\n",
              "          const element = document.querySelector('#df-d26da948-de6e-46ce-92e9-f6962b129555');\n",
              "          const dataTable =\n",
              "            await google.colab.kernel.invokeFunction('convertToInteractive',\n",
              "                                                     [key], {});\n",
              "          if (!dataTable) return;\n",
              "\n",
              "          const docLinkHtml = 'Like what you see? Visit the ' +\n",
              "            '<a target=\"_blank\" href=https://colab.research.google.com/notebooks/data_table.ipynb>data table notebook</a>'\n",
              "            + ' to learn more about interactive tables.';\n",
              "          element.innerHTML = '';\n",
              "          dataTable['output_type'] = 'display_data';\n",
              "          await google.colab.output.renderOutput(dataTable, element);\n",
              "          const docLink = document.createElement('div');\n",
              "          docLink.innerHTML = docLinkHtml;\n",
              "          element.appendChild(docLink);\n",
              "        }\n",
              "      </script>\n",
              "    </div>\n",
              "  </div>\n",
              "  "
            ]
          },
          "metadata": {},
          "execution_count": 17
        }
      ]
    },
    {
      "cell_type": "markdown",
      "source": [
        "**Exporting to excel**"
      ],
      "metadata": {
        "id": "m0_dpOYfdncC"
      }
    },
    {
      "cell_type": "code",
      "source": [
        "writer = pd.ExcelWriter('cryptos.xlsx')"
      ],
      "metadata": {
        "id": "4hsqwxAicm8Q"
      },
      "execution_count": 18,
      "outputs": []
    },
    {
      "cell_type": "markdown",
      "source": [
        "Writing to defferent excel sheets"
      ],
      "metadata": {
        "id": "_ZDOuKbcd-RB"
      }
    },
    {
      "cell_type": "code",
      "source": [
        "btc.to_excel(writer, sheet_name=\"Bitcoin\")\n",
        "eth.to_excel(writer, sheet_name='Ether')\n",
        "writer.save()"
      ],
      "metadata": {
        "id": "cfHzOldgeHkR"
      },
      "execution_count": 19,
      "outputs": []
    }
  ]
}